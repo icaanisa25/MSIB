{
  "cells": [
    {
      "cell_type": "markdown",
      "metadata": {
        "id": "view-in-github",
        "colab_type": "text"
      },
      "source": [
        "<a href=\"https://colab.research.google.com/github/icaanisa25/MSIB/blob/main/Salinan_dari_JM_4%265_ChatbotAI_Text_to_Speech.ipynb\" target=\"_parent\"><img src=\"https://colab.research.google.com/assets/colab-badge.svg\" alt=\"Open In Colab\"/></a>"
      ]
    },
    {
      "cell_type": "markdown",
      "metadata": {
        "id": "za1gVNL5CRGY"
      },
      "source": [
        "# AI Chatbot in Python\n",
        "> Chatbot sederhana ini menggunakan konsep sederhana penerapan Cosine Similarity\n",
        "\n",
        "> Disini program Chatbot dibuat dengan sesuai kebutuhan pengguna, jadi kita bisa memilih apakah harus membuat program ini bisa bekerja pada topik tertentu, misalnya untuk Chatbot berbasis Covid-19, atau yang lainnya yang sedang relevan."
      ]
    },
    {
      "cell_type": "code",
      "execution_count": 1,
      "metadata": {
        "id": "yE4rWjtACRGf"
      },
      "outputs": [],
      "source": [
        "#sumber materi : https://towardsdatascience.com/making-a-simple-and-fast-chatbot-in-10-minutes-2d84a4ba35e\n",
        "#https://youtu.be/9KZwRBg4-P0"
      ]
    },
    {
      "cell_type": "markdown",
      "metadata": {
        "id": "YZW2gMYW-ZBR"
      },
      "source": [
        "# Tools scraping Artikel\n",
        "\n",
        "Pada program kali ini kita akan mengambil teks dari internet menggunakan tools newspaper3k, dimana tools ini memiliki beberapa kelebihan yaitu:\n",
        "1. Kerangka kerja dalam mengunduh artikel yang multi-thread\n",
        "2. Dapat mengidentifikasi URL baru\n",
        "3. Mampu mengekstraksi teks dari HTML\n",
        "4. Terbaik dalam hal ekstraksi gambar dari HTML\n",
        "5. Mampu mengekstraksi semua gambar dari HTML\n",
        "6. Dapat mengekstraksi kata kunci dari teks\n",
        "7. Dapat mengekstrak ringkasan teks\n",
        "8. Dapat mengekstraksi nama penulis suatu artikel\n",
        "9. Dapat mengekstraksi istilah yang sedang trend di mesin pencarian Google\n",
        "10. Dapat bekerja lebih dari 10 bahasa (termasuk Inggris, Jerman, Arab, China, dll)"
      ]
    },
    {
      "cell_type": "code",
      "execution_count": 2,
      "metadata": {
        "colab": {
          "base_uri": "https://localhost:8080/"
        },
        "id": "Q9_mnPq6NPUy",
        "outputId": "42200e50-050f-4b0b-dad0-736175bf4831"
      },
      "outputs": [
        {
          "output_type": "stream",
          "name": "stdout",
          "text": [
            "Collecting gtts\n",
            "  Downloading gTTS-2.2.4-py3-none-any.whl (26 kB)\n",
            "Requirement already satisfied: six in /usr/local/lib/python3.7/dist-packages (from gtts) (1.15.0)\n",
            "Requirement already satisfied: click in /usr/local/lib/python3.7/dist-packages (from gtts) (7.1.2)\n",
            "Requirement already satisfied: requests in /usr/local/lib/python3.7/dist-packages (from gtts) (2.23.0)\n",
            "Requirement already satisfied: idna<3,>=2.5 in /usr/local/lib/python3.7/dist-packages (from requests->gtts) (2.10)\n",
            "Requirement already satisfied: urllib3!=1.25.0,!=1.25.1,<1.26,>=1.21.1 in /usr/local/lib/python3.7/dist-packages (from requests->gtts) (1.24.3)\n",
            "Requirement already satisfied: certifi>=2017.4.17 in /usr/local/lib/python3.7/dist-packages (from requests->gtts) (2021.10.8)\n",
            "Requirement already satisfied: chardet<4,>=3.0.2 in /usr/local/lib/python3.7/dist-packages (from requests->gtts) (3.0.4)\n",
            "Installing collected packages: gtts\n",
            "Successfully installed gtts-2.2.4\n"
          ]
        }
      ],
      "source": [
        "!pip install gtts"
      ]
    },
    {
      "cell_type": "code",
      "execution_count": 3,
      "metadata": {
        "colab": {
          "base_uri": "https://localhost:8080/"
        },
        "id": "ye3nyhSyCRGi",
        "outputId": "66265f6e-d9bd-45c6-8d54-f1b255d99cdc"
      },
      "outputs": [
        {
          "output_type": "stream",
          "name": "stdout",
          "text": [
            "Collecting newspaper3k\n",
            "  Downloading newspaper3k-0.2.8-py3-none-any.whl (211 kB)\n",
            "\u001b[?25l\r\u001b[K     |█▌                              | 10 kB 17.2 MB/s eta 0:00:01\r\u001b[K     |███                             | 20 kB 9.1 MB/s eta 0:00:01\r\u001b[K     |████▋                           | 30 kB 7.7 MB/s eta 0:00:01\r\u001b[K     |██████▏                         | 40 kB 3.5 MB/s eta 0:00:01\r\u001b[K     |███████▊                        | 51 kB 3.5 MB/s eta 0:00:01\r\u001b[K     |█████████▎                      | 61 kB 4.2 MB/s eta 0:00:01\r\u001b[K     |██████████▉                     | 71 kB 4.4 MB/s eta 0:00:01\r\u001b[K     |████████████▍                   | 81 kB 4.4 MB/s eta 0:00:01\r\u001b[K     |██████████████                  | 92 kB 4.9 MB/s eta 0:00:01\r\u001b[K     |███████████████▌                | 102 kB 4.2 MB/s eta 0:00:01\r\u001b[K     |█████████████████               | 112 kB 4.2 MB/s eta 0:00:01\r\u001b[K     |██████████████████▋             | 122 kB 4.2 MB/s eta 0:00:01\r\u001b[K     |████████████████████▏           | 133 kB 4.2 MB/s eta 0:00:01\r\u001b[K     |█████████████████████▊          | 143 kB 4.2 MB/s eta 0:00:01\r\u001b[K     |███████████████████████▎        | 153 kB 4.2 MB/s eta 0:00:01\r\u001b[K     |████████████████████████▉       | 163 kB 4.2 MB/s eta 0:00:01\r\u001b[K     |██████████████████████████▍     | 174 kB 4.2 MB/s eta 0:00:01\r\u001b[K     |████████████████████████████    | 184 kB 4.2 MB/s eta 0:00:01\r\u001b[K     |█████████████████████████████▌  | 194 kB 4.2 MB/s eta 0:00:01\r\u001b[K     |███████████████████████████████ | 204 kB 4.2 MB/s eta 0:00:01\r\u001b[K     |████████████████████████████████| 211 kB 4.2 MB/s \n",
            "\u001b[?25hRequirement already satisfied: nltk>=3.2.1 in /usr/local/lib/python3.7/dist-packages (from newspaper3k) (3.2.5)\n",
            "Collecting jieba3k>=0.35.1\n",
            "  Downloading jieba3k-0.35.1.zip (7.4 MB)\n",
            "\u001b[K     |████████████████████████████████| 7.4 MB 32.5 MB/s \n",
            "\u001b[?25hRequirement already satisfied: Pillow>=3.3.0 in /usr/local/lib/python3.7/dist-packages (from newspaper3k) (7.1.2)\n",
            "Collecting feedparser>=5.2.1\n",
            "  Downloading feedparser-6.0.8-py3-none-any.whl (81 kB)\n",
            "\u001b[K     |████████████████████████████████| 81 kB 9.9 MB/s \n",
            "\u001b[?25hCollecting feedfinder2>=0.0.4\n",
            "  Downloading feedfinder2-0.0.4.tar.gz (3.3 kB)\n",
            "Requirement already satisfied: PyYAML>=3.11 in /usr/local/lib/python3.7/dist-packages (from newspaper3k) (3.13)\n",
            "Requirement already satisfied: requests>=2.10.0 in /usr/local/lib/python3.7/dist-packages (from newspaper3k) (2.23.0)\n",
            "Requirement already satisfied: beautifulsoup4>=4.4.1 in /usr/local/lib/python3.7/dist-packages (from newspaper3k) (4.6.3)\n",
            "Requirement already satisfied: python-dateutil>=2.5.3 in /usr/local/lib/python3.7/dist-packages (from newspaper3k) (2.8.2)\n",
            "Collecting cssselect>=0.9.2\n",
            "  Downloading cssselect-1.1.0-py2.py3-none-any.whl (16 kB)\n",
            "Collecting tinysegmenter==0.3\n",
            "  Downloading tinysegmenter-0.3.tar.gz (16 kB)\n",
            "Collecting tldextract>=2.0.1\n",
            "  Downloading tldextract-3.2.1-py3-none-any.whl (87 kB)\n",
            "\u001b[K     |████████████████████████████████| 87 kB 7.4 MB/s \n",
            "\u001b[?25hRequirement already satisfied: lxml>=3.6.0 in /usr/local/lib/python3.7/dist-packages (from newspaper3k) (4.2.6)\n",
            "Requirement already satisfied: six in /usr/local/lib/python3.7/dist-packages (from feedfinder2>=0.0.4->newspaper3k) (1.15.0)\n",
            "Collecting sgmllib3k\n",
            "  Downloading sgmllib3k-1.0.0.tar.gz (5.8 kB)\n",
            "Requirement already satisfied: certifi>=2017.4.17 in /usr/local/lib/python3.7/dist-packages (from requests>=2.10.0->newspaper3k) (2021.10.8)\n",
            "Requirement already satisfied: chardet<4,>=3.0.2 in /usr/local/lib/python3.7/dist-packages (from requests>=2.10.0->newspaper3k) (3.0.4)\n",
            "Requirement already satisfied: idna<3,>=2.5 in /usr/local/lib/python3.7/dist-packages (from requests>=2.10.0->newspaper3k) (2.10)\n",
            "Requirement already satisfied: urllib3!=1.25.0,!=1.25.1,<1.26,>=1.21.1 in /usr/local/lib/python3.7/dist-packages (from requests>=2.10.0->newspaper3k) (1.24.3)\n",
            "Collecting requests-file>=1.4\n",
            "  Downloading requests_file-1.5.1-py2.py3-none-any.whl (3.7 kB)\n",
            "Requirement already satisfied: filelock>=3.0.8 in /usr/local/lib/python3.7/dist-packages (from tldextract>=2.0.1->newspaper3k) (3.6.0)\n",
            "Building wheels for collected packages: tinysegmenter, feedfinder2, jieba3k, sgmllib3k\n",
            "  Building wheel for tinysegmenter (setup.py) ... \u001b[?25l\u001b[?25hdone\n",
            "  Created wheel for tinysegmenter: filename=tinysegmenter-0.3-py3-none-any.whl size=13553 sha256=4e23c48b733f869fd02a35bc959a19268f1514a1f8d0ee07d5788fd2a40d9683\n",
            "  Stored in directory: /root/.cache/pip/wheels/df/67/41/faca10fa501ca010be41b49d40360c2959e1c4f09bcbfa37fa\n",
            "  Building wheel for feedfinder2 (setup.py) ... \u001b[?25l\u001b[?25hdone\n",
            "  Created wheel for feedfinder2: filename=feedfinder2-0.0.4-py3-none-any.whl size=3357 sha256=91f78b125e155fd102d132d55c3af00af78d03022ca22ecb0d9c4ff729d8a90b\n",
            "  Stored in directory: /root/.cache/pip/wheels/7f/d4/8f/6e2ca54744c9d7292d88ddb8d42876bcdab5e6d84a21c10346\n",
            "  Building wheel for jieba3k (setup.py) ... \u001b[?25l\u001b[?25hdone\n",
            "  Created wheel for jieba3k: filename=jieba3k-0.35.1-py3-none-any.whl size=7398404 sha256=2c98bde06c2f0e42061894f03d024e593876f2c87c17cba1c2bb0776f0cd3fa9\n",
            "  Stored in directory: /root/.cache/pip/wheels/4c/91/46/3c208287b726df325a5979574324878b679116e4baae1af3c3\n",
            "  Building wheel for sgmllib3k (setup.py) ... \u001b[?25l\u001b[?25hdone\n",
            "  Created wheel for sgmllib3k: filename=sgmllib3k-1.0.0-py3-none-any.whl size=6066 sha256=e72dbd4d1356d2ddd2bc3072488b9f5bcbc6e205a01965839b51ba9b01b811ec\n",
            "  Stored in directory: /root/.cache/pip/wheels/73/ad/a4/0dff4a6ef231fc0dfa12ffbac2a36cebfdddfe059f50e019aa\n",
            "Successfully built tinysegmenter feedfinder2 jieba3k sgmllib3k\n",
            "Installing collected packages: sgmllib3k, requests-file, tldextract, tinysegmenter, jieba3k, feedparser, feedfinder2, cssselect, newspaper3k\n",
            "Successfully installed cssselect-1.1.0 feedfinder2-0.0.4 feedparser-6.0.8 jieba3k-0.35.1 newspaper3k-0.2.8 requests-file-1.5.1 sgmllib3k-1.0.0 tinysegmenter-0.3 tldextract-3.2.1\n"
          ]
        }
      ],
      "source": [
        "!pip install newspaper3k"
      ]
    },
    {
      "cell_type": "code",
      "execution_count": 4,
      "metadata": {
        "id": "4FGmgeEECRGi"
      },
      "outputs": [],
      "source": [
        "# Import library\n",
        "from newspaper import Article\n",
        "import random\n",
        "import nltk\n",
        "import string\n",
        "from sklearn.feature_extraction.text import CountVectorizer\n",
        "from sklearn.metrics.pairwise import cosine_similarity\n",
        "import numpy as np\n",
        "import pandas as pd\n",
        "import warnings\n",
        "import re\n",
        "warnings.filterwarnings('ignore')\n",
        "\n",
        "from gtts import gTTS\n",
        "import IPython.display as ipd\n",
        "import time\n",
        "from io import BytesIO"
      ]
    },
    {
      "cell_type": "code",
      "execution_count": 5,
      "metadata": {
        "colab": {
          "base_uri": "https://localhost:8080/"
        },
        "id": "Sa8BD2nwCRGj",
        "outputId": "36ed45b0-6ef6-4c4b-fd25-272c46f2cd18"
      },
      "outputs": [
        {
          "output_type": "execute_result",
          "data": {
            "text/plain": [
              "True"
            ]
          },
          "metadata": {},
          "execution_count": 5
        }
      ],
      "source": [
        "nltk.download('punkt', quiet=True)"
      ]
    },
    {
      "cell_type": "markdown",
      "metadata": {
        "id": "LTnOWF68CRGk"
      },
      "source": [
        "# Proses 1 (Membuat korpus dengan mendownload artikel dari sebuah link)\n",
        "\n",
        "Link dapat diganti dengan link teks berbhasa Indonesia, tetapi kali ini kita mencoba menggunakan teks berbahasa Inggris terlebih dahulu. "
      ]
    },
    {
      "cell_type": "code",
      "execution_count": 6,
      "metadata": {
        "colab": {
          "base_uri": "https://localhost:8080/"
        },
        "id": "otZH3R0eCRGk",
        "outputId": "5f2883a2-9a0a-4567-9f86-c52984274661"
      },
      "outputs": [
        {
          "output_type": "stream",
          "name": "stdout",
          "text": [
            "Learn more from kidney doctor Andrew Bentall, M.D.\n",
            "\n",
            "I'm Dr. Andrew Bentall, a kidney doctor at Mayo Clinic. I look after patients with kidney disease, either in the early stages, or with more advanced kidney disease considering dialysis and transplantation as treatment options. In this video, we'll cover the basics of chronic kidney disease. What is it? Who gets it? The symptoms, diagnosis and treatment. Whether you are looking for answers for yourself or for someone you love, we're here to give you the best information available.\n",
            "\n",
            "Chronic kidney disease is a disease characterized by progressive damage and loss of function in the kidneys. It's estimated that chronic kidney disease affects about one in seven American adults. And most of those don't know they have it. Before we get into the disease itself, let's talk a little bit about the kidneys and what they do. Our kidneys play many important roles keeping our bodies in balance. They remove waste and toxins, excess water from the bloodstream, which is carried out of the body in urine. They helped to make hormones to produce red blood cells, and they turn vitamin D into its active form, so it's usable in the body.\n",
            "\n",
            "There are quite a few things that can cause or put you at higher risk for chronic kidney disease. Some of them are not things that can be avoided. Your risk is simply higher if you have a family history of certain genetic conditions like polycystic kidney disease or some autoimmune diseases like lupus or IgA nephropathy. Defects in the kidney structure can also cause your kidneys to fail, and you have an increased risk as you get older. Sometimes, other common medical conditions can increase your risk. Diabetes is the most common cause of kidney disease. Both type 1 and type 2 diabetes. But also heart disease and obesity can contribute to the damage that causes kidneys to fail. Urinary tract issues and inflammation in different parts of the kidney can also lead to long-term functional decline. There are things that are more under our control: Heavy or long-term use of certain medications, even those that are common over-the-counter. Smoking can also be a contributing factor to chronic kidney disease.\n",
            "\n",
            "Often there are no outward signs in the earlier stages of chronic kidney disease, which is grouped into stages 1 through 5. Generally, earlier stages are known as 1 to 3. And as kidney disease progresses, you may notice the following symptoms. Nausea and vomiting, muscle cramps, loss of appetite, swelling via feet and ankles, dry, itchy skin, shortness of breath, trouble sleeping, urinating either too much or too little. However, these are usually in the later stages, but they can also happen in other disorders. So don't automatically interpret this as having kidney disease. But if you're experiencing anything that concerns you, you should make an appointment with your doctor.\n",
            "\n",
            "Even before any symptoms appear, routine blood work can indicate that you might be in the early stages of chronic kidney disease. And the earlier it's detected, the easier it is to treat. This is why regular checkups with your doctor are important. If your doctor suspects the onset of chronic kidney disease, they may schedule a variety of other tests. They may also refer you to a kidney specialist, a nephrologist like myself. Urine tests can reveal abnormalities and give clues to the underlying cause of the chronic kidney disease. And this can also help to determine the underlying issues. Various imaging tests like ultrasounds or CT scans can be done to help your doctor assess the size, the structure, as well as evaluate the visible damage, inflammation or stones of your kidneys. And in some cases, a kidney biopsy may be necessary. And a small amount of tissue is taken with a needle and sent to the pathologist for further analysis.\n",
            "\n",
            "Treatment is determined by what is causing your kidneys to not function normally. Treating the cause is key, leading to reduced complications and slowing progression of kidney disease. For example, getting better blood pressure control, improved sugar control and diabetes, and reducing weight are often key interventions. However, existing damage is not usually reversible. In some conditions, treatment can reverse the cause of the disease. So seeking medical review is really important. Individual complications vary, but treatment might include high blood pressure medication, diuretics to reduce fluid and swelling, supplements to relieve anemia, statins to lower cholesterol, or medications to protect your bones and prevent blood vessel calcification. A lower-protein diet may also be recommended. It reduces the amount of waste your kidneys need to filter from your blood. These can not only slow the damage of kidney disease, but make you feel better as well. When the damage has progressed to the point that 85 to 90 percent of your kidney function is gone, and they no longer work well enough to keep you alive, it's called end-stage kidney failure. But there are still options. There's dialysis, which uses a machine to filter the toxins and remove water from your body as your kidneys are no longer able to do this. Where possible, the preferred therapy is a kidney transplant. While an organ transplant can sound daunting, it's actually often the better alternative, and the closest thing to a cure, if you qualify for a kidney transplant.\n",
            "\n",
            "If you have kidney disease, there are lifestyle choices. Namely quit smoking. Consuming alcohol in moderation. If you're overweight or obese, then try to lose weight. Staying active and getting exercise can help not only with your weight, but fatigue and stress. If your condition allows, keep up with your routine, whether that's working, hobbies, social activities, or other things you enjoy. It can be helpful to talk to someone you trust, a friend or relative who's good at listening. Or your doctor could also refer you to a therapist or social worker. It can also be helpful to find a support group and connect with people going through the same thing. Learning you have chronic kidney disease and learning how to live with it can be a challenge. But there are lots of ways to help you to be more comfortable for longer before more drastic measures are needed. And even then, there is plenty of hope. If you'd like to learn even more about chronic kidney disease, watch our other related videos or visit mayoclinic.org. We wish you well.\n"
          ]
        }
      ],
      "source": [
        "article = Article('https://www.mayoclinic.org/diseases-conditions/chronic-kidney-disease/symptoms-causes/syc-20354521')\n",
        "article.download()\n",
        "article.parse()\n",
        "article.nlp()\n",
        "corpus = article.text\n",
        "print(corpus)"
      ]
    },
    {
      "cell_type": "markdown",
      "metadata": {
        "id": "bGmRAQ9WCRGl"
      },
      "source": [
        "# Proses 2 (Tokenization)"
      ]
    },
    {
      "cell_type": "code",
      "execution_count": 7,
      "metadata": {
        "colab": {
          "base_uri": "https://localhost:8080/"
        },
        "id": "vh1UaZ3kCRGl",
        "outputId": "a9cba0f7-1ac3-4aa1-cff1-d70bf1bd1f98"
      },
      "outputs": [
        {
          "output_type": "stream",
          "name": "stdout",
          "text": [
            "['Learn more from kidney doctor Andrew Bentall, M.D.', \"I'm Dr. Andrew Bentall, a kidney doctor at Mayo Clinic.\", 'I look after patients with kidney disease, either in the early stages, or with more advanced kidney disease considering dialysis and transplantation as treatment options.', \"In this video, we'll cover the basics of chronic kidney disease.\", 'What is it?', 'Who gets it?', 'The symptoms, diagnosis and treatment.', \"Whether you are looking for answers for yourself or for someone you love, we're here to give you the best information available.\", 'Chronic kidney disease is a disease characterized by progressive damage and loss of function in the kidneys.', \"It's estimated that chronic kidney disease affects about one in seven American adults.\", \"And most of those don't know they have it.\", \"Before we get into the disease itself, let's talk a little bit about the kidneys and what they do.\", 'Our kidneys play many important roles keeping our bodies in balance.', 'They remove waste and toxins, excess water from the bloodstream, which is carried out of the body in urine.', \"They helped to make hormones to produce red blood cells, and they turn vitamin D into its active form, so it's usable in the body.\", 'There are quite a few things that can cause or put you at higher risk for chronic kidney disease.', 'Some of them are not things that can be avoided.', 'Your risk is simply higher if you have a family history of certain genetic conditions like polycystic kidney disease or some autoimmune diseases like lupus or IgA nephropathy.', 'Defects in the kidney structure can also cause your kidneys to fail, and you have an increased risk as you get older.', 'Sometimes, other common medical conditions can increase your risk.', 'Diabetes is the most common cause of kidney disease.', 'Both type 1 and type 2 diabetes.', 'But also heart disease and obesity can contribute to the damage that causes kidneys to fail.', 'Urinary tract issues and inflammation in different parts of the kidney can also lead to long-term functional decline.', 'There are things that are more under our control: Heavy or long-term use of certain medications, even those that are common over-the-counter.', 'Smoking can also be a contributing factor to chronic kidney disease.', 'Often there are no outward signs in the earlier stages of chronic kidney disease, which is grouped into stages 1 through 5.', 'Generally, earlier stages are known as 1 to 3.', 'And as kidney disease progresses, you may notice the following symptoms.', 'Nausea and vomiting, muscle cramps, loss of appetite, swelling via feet and ankles, dry, itchy skin, shortness of breath, trouble sleeping, urinating either too much or too little.', 'However, these are usually in the later stages, but they can also happen in other disorders.', \"So don't automatically interpret this as having kidney disease.\", \"But if you're experiencing anything that concerns you, you should make an appointment with your doctor.\", 'Even before any symptoms appear, routine blood work can indicate that you might be in the early stages of chronic kidney disease.', \"And the earlier it's detected, the easier it is to treat.\", 'This is why regular checkups with your doctor are important.', 'If your doctor suspects the onset of chronic kidney disease, they may schedule a variety of other tests.', 'They may also refer you to a kidney specialist, a nephrologist like myself.', 'Urine tests can reveal abnormalities and give clues to the underlying cause of the chronic kidney disease.', 'And this can also help to determine the underlying issues.', 'Various imaging tests like ultrasounds or CT scans can be done to help your doctor assess the size, the structure, as well as evaluate the visible damage, inflammation or stones of your kidneys.', 'And in some cases, a kidney biopsy may be necessary.', 'And a small amount of tissue is taken with a needle and sent to the pathologist for further analysis.', 'Treatment is determined by what is causing your kidneys to not function normally.', 'Treating the cause is key, leading to reduced complications and slowing progression of kidney disease.', 'For example, getting better blood pressure control, improved sugar control and diabetes, and reducing weight are often key interventions.', 'However, existing damage is not usually reversible.', 'In some conditions, treatment can reverse the cause of the disease.', 'So seeking medical review is really important.', 'Individual complications vary, but treatment might include high blood pressure medication, diuretics to reduce fluid and swelling, supplements to relieve anemia, statins to lower cholesterol, or medications to protect your bones and prevent blood vessel calcification.', 'A lower-protein diet may also be recommended.', 'It reduces the amount of waste your kidneys need to filter from your blood.', 'These can not only slow the damage of kidney disease, but make you feel better as well.', \"When the damage has progressed to the point that 85 to 90 percent of your kidney function is gone, and they no longer work well enough to keep you alive, it's called end-stage kidney failure.\", 'But there are still options.', \"There's dialysis, which uses a machine to filter the toxins and remove water from your body as your kidneys are no longer able to do this.\", 'Where possible, the preferred therapy is a kidney transplant.', \"While an organ transplant can sound daunting, it's actually often the better alternative, and the closest thing to a cure, if you qualify for a kidney transplant.\", 'If you have kidney disease, there are lifestyle choices.', 'Namely quit smoking.', 'Consuming alcohol in moderation.', \"If you're overweight or obese, then try to lose weight.\", 'Staying active and getting exercise can help not only with your weight, but fatigue and stress.', \"If your condition allows, keep up with your routine, whether that's working, hobbies, social activities, or other things you enjoy.\", \"It can be helpful to talk to someone you trust, a friend or relative who's good at listening.\", 'Or your doctor could also refer you to a therapist or social worker.', 'It can also be helpful to find a support group and connect with people going through the same thing.', 'Learning you have chronic kidney disease and learning how to live with it can be a challenge.', 'But there are lots of ways to help you to be more comfortable for longer before more drastic measures are needed.', 'And even then, there is plenty of hope.', \"If you'd like to learn even more about chronic kidney disease, watch our other related videos or visit mayoclinic.org.\", 'We wish you well.']\n"
          ]
        }
      ],
      "source": [
        "# Tokenization\n",
        "text = corpus\n",
        "sentence_list = nltk.sent_tokenize(text) #A list of senetences\n",
        "\n",
        "# Print the list of sentences\n",
        "print(sentence_list)\n"
      ]
    },
    {
      "cell_type": "markdown",
      "metadata": {
        "id": "A0kZDPHxCRGm"
      },
      "source": [
        "# Proses 3 (Bot Response)\n",
        "\n",
        "Bot respon digunakan untuk membuat sebuah percakapan awal antara pengguna dengan bot, jadi disini user dapat menyapa bot, nah untuk kata-kata dapat diganti sesuai dengan kebutuhan, misalnya bahasa indonesia. \n",
        "\n",
        "Pada percakapan awal tidak menggunakan ML atau metode lainnya, program hanya menjawab dengan kata yang di cocokkan sebagai input."
      ]
    },
    {
      "cell_type": "code",
      "execution_count": 8,
      "metadata": {
        "id": "qII0gu1dCRGm"
      },
      "outputs": [],
      "source": [
        "#a function to return a random greeting response to a users greeting\n",
        "def greeting_response(text):\n",
        "    text = text.lower()\n",
        "    \n",
        "    #Bots greeting respone\n",
        "    bot_greetings = ['howdy','hi','hello','hola']\n",
        "    \n",
        "    #Users greeting\n",
        "    user_greetings = ['hi','hey','hello','greetings','wassup']\n",
        "    \n",
        "    for word in text.split():\n",
        "        if word in user_greetings:\n",
        "            return random.choice(bot_greetings)\n",
        "        \n",
        "    #Random response to greeting\n",
        "    def gratitude_response(text):\n",
        "        text=text.lower()\n",
        "   \n"
      ]
    },
    {
      "cell_type": "markdown",
      "metadata": {
        "id": "AZEgMQCr_HtI"
      },
      "source": [
        "1. Pada list kode bot_greetings itu bentuk kata sapaan bot terhadap sapaan yang kita berikan, dan dapat diganti dengan bahasa Indonesia atau lainnya.\n",
        "2. Sedangkan, pada list user_greetings itu kata sapaan input dari user dan dapat diganti dengan bahasa lainnya."
      ]
    },
    {
      "cell_type": "markdown",
      "metadata": {
        "id": "oTHbuHoO_SXL"
      },
      "source": [
        "# Sorting List"
      ]
    },
    {
      "cell_type": "code",
      "execution_count": 9,
      "metadata": {
        "id": "ZQnYG5nQCRGn"
      },
      "outputs": [],
      "source": [
        " def index_sort(list_var):\n",
        "    length = len(list_var)\n",
        "    list_index = list(range(0, length))\n",
        "    \n",
        "    x = list_var        \n",
        "    for i in range(length):\n",
        "        for j in range(length):\n",
        "            if x[list_index[i]] > x[list_index[j]]:\n",
        "                #swap\n",
        "                temp = list_index[i]\n",
        "                list_index[i] = list_index[j]\n",
        "                list_index[j] = temp\n",
        "                \n",
        "    return list_index"
      ]
    },
    {
      "cell_type": "markdown",
      "metadata": {
        "id": "tIuiijdc_YZ2"
      },
      "source": [
        "# Chatbot Respon Menggunakan Cosine Similarity\n",
        "\n",
        "Pada respon bot menggunakan teknis Cosine Similarity untuk menghitung kata yang cocok dengan yang di input user terhadap respon dari Bot"
      ]
    },
    {
      "cell_type": "code",
      "execution_count": 10,
      "metadata": {
        "id": "VrBJ58bvCRGn"
      },
      "outputs": [],
      "source": [
        "# Creat Bots Response\n",
        "def bot_response(user_input):\n",
        "    user_input=user_input.lower()\n",
        "    sentence_list.append(user_input)\n",
        "    bot_response= ''\n",
        "    cm=CountVectorizer().fit_transform(sentence_list)\n",
        "    similarity_scores=cosine_similarity(cm[-1],cm)\n",
        "    similarity_scores_list=similarity_scores.flatten()\n",
        "    index=index_sort(similarity_scores_list)\n",
        "    index=index[1:]\n",
        "    response_flag=0\n",
        "    \n",
        "    j=0\n",
        "    for i in range(len(index)):\n",
        "        if similarity_scores_list[index[i]]>0.0:\n",
        "            bot_response=bot_response+' '+sentence_list[index[i]]\n",
        "            response_flag=1\n",
        "            j=j+1\n",
        "        if j>2:\n",
        "            break\n",
        "\n",
        "        if response_flag==0:\n",
        "            bot_response=bot_response+\" \"+\"I apologize, I dont understand\"\n",
        "\n",
        "        sentence_list.remove(user_input) \n",
        "\n",
        "        return bot_response"
      ]
    },
    {
      "cell_type": "markdown",
      "metadata": {
        "id": "2fvjGhBU_nyk"
      },
      "source": [
        "Pada listing kode >bot_response=bot_response+\" \"+\"I apologize, I dont understand\" pada list kode ini kata I apologize tujuannya untuk memberikan respon karena sistem tidak mengenali kata yang kita input, jadi sebagai bentuk respon bot kepada user. Kata tersebut bisa diganti dengan bahasa Indonesia, misalnya \"Maaf saya tidak mengetahui arti atau tidak mengenali kata-kata yang di input\"."
      ]
    },
    {
      "cell_type": "markdown",
      "metadata": {
        "id": "8-C33RGuCRGo"
      },
      "source": [
        "# Proses 4 (End Process, Making chat box)"
      ]
    },
    {
      "cell_type": "code",
      "execution_count": 13,
      "metadata": {
        "colab": {
          "base_uri": "https://localhost:8080/",
          "height": 269
        },
        "id": "7GTB7h9TCRGo",
        "outputId": "c0e283a6-9dd3-4c67-f4cb-6ff9ff1cbcdd"
      },
      "outputs": [
        {
          "name": "stdout",
          "output_type": "stream",
          "text": [
            "Doc Bot: I am DOc bot and I will answer your queries about chronic kidney disease, if you want to exit type, bye  ?\n",
            "bye\n"
          ]
        },
        {
          "output_type": "error",
          "ename": "NameError",
          "evalue": "ignored",
          "traceback": [
            "\u001b[0;31m---------------------------------------------------------------------------\u001b[0m",
            "\u001b[0;31mNameError\u001b[0m                                 Traceback (most recent call last)",
            "\u001b[0;32m<ipython-input-13-08761417355c>\u001b[0m in \u001b[0;36m<module>\u001b[0;34m()\u001b[0m\n\u001b[1;32m      6\u001b[0m \u001b[0;32mwhile\u001b[0m\u001b[0;34m(\u001b[0m\u001b[0;32mTrue\u001b[0m\u001b[0;34m)\u001b[0m\u001b[0;34m:\u001b[0m\u001b[0;34m\u001b[0m\u001b[0;34m\u001b[0m\u001b[0m\n\u001b[1;32m      7\u001b[0m     \u001b[0muser_input\u001b[0m\u001b[0;34m=\u001b[0m\u001b[0minput\u001b[0m\u001b[0;34m(\u001b[0m\u001b[0;34m)\u001b[0m\u001b[0;34m\u001b[0m\u001b[0;34m\u001b[0m\u001b[0m\n\u001b[0;32m----> 8\u001b[0;31m     \u001b[0mstt\u001b[0m\u001b[0;34m\u001b[0m\u001b[0;34m\u001b[0m\u001b[0m\n\u001b[0m\u001b[1;32m      9\u001b[0m     \u001b[0;32mif\u001b[0m \u001b[0muser_input\u001b[0m\u001b[0;34m.\u001b[0m\u001b[0mlower\u001b[0m\u001b[0;34m(\u001b[0m\u001b[0;34m)\u001b[0m \u001b[0;32min\u001b[0m \u001b[0mexit_list\u001b[0m\u001b[0;34m:\u001b[0m\u001b[0;34m\u001b[0m\u001b[0;34m\u001b[0m\u001b[0m\n\u001b[1;32m     10\u001b[0m         \u001b[0mprint\u001b[0m\u001b[0;34m(\u001b[0m\u001b[0;34m'Doc Bot: Bye Bye See you later'\u001b[0m\u001b[0;34m)\u001b[0m\u001b[0;34m\u001b[0m\u001b[0;34m\u001b[0m\u001b[0m\n",
            "\u001b[0;31mNameError\u001b[0m: name 'stt' is not defined"
          ]
        }
      ],
      "source": [
        "#Start Chat\n",
        "print(\"Doc Bot: I am DOc bot and I will answer your queries about chronic kidney disease, if you want to exit type, bye  ?\")\n",
        "\n",
        "exit_list=['exit','bye','see you later','quit']\n",
        "\n",
        "while(True):\n",
        "    user_input=input()\n",
        "    stt\n",
        "    if user_input.lower() in exit_list:\n",
        "        print('Doc Bot: Bye Bye See you later')\n",
        "        break\n",
        "    else:\n",
        "        if greeting_response(user_input)!= None:\n",
        "            print('Doc Bot: '+ greeting_response(user_input))\n",
        "        else:\n",
        "            print('Doc Bot: '+ bot_response(user_input))\n",
        "            tts = gTTS(bot_response(user_input), lang='en')\n",
        "            tts.save('mantap.wav')\n",
        "            time.sleep(0.08)\n",
        "            print(\"Kamu:\\n\")\n",
        "            ipd.display(ipd.Audio('mantap.wav', autoplay=True))\n",
        "            \n",
        "            print(\"=\"*60 + \"\\n\")"
      ]
    },
    {
      "cell_type": "markdown",
      "metadata": {
        "id": "WavLomgtHxRI"
      },
      "source": [
        "Doc Bot ganti dengan ini atau sesuai dengan topik yang lagi di bahas, print(\"Doc Bot: Mau nanya apa kamu tentang kabel laut?\")"
      ]
    },
    {
      "cell_type": "code",
      "execution_count": 14,
      "metadata": {
        "id": "WWdOizj-CRGp"
      },
      "outputs": [],
      "source": [
        "#buat pertanyaan pada kolom diatas seperti : what is chronic kidney disease?, dll."
      ]
    },
    {
      "cell_type": "markdown",
      "metadata": {
        "id": "zJ5gxzVCgftf"
      },
      "source": [
        "---\n",
        "# AI Chatbot Versi Bahasa **Indonesia**\n",
        "# Proses 1 (Making Corpus with Download an Article)"
      ]
    },
    {
      "cell_type": "code",
      "execution_count": 15,
      "metadata": {
        "id": "FYT3-ERtgjjS",
        "colab": {
          "base_uri": "https://localhost:8080/"
        },
        "outputId": "f29a96c8-483b-43de-d6ee-52a9eb205a6b"
      },
      "outputs": [
        {
          "output_type": "stream",
          "name": "stdout",
          "text": [
            "Telkomsel, Indihome, dan Kabel Laut JaSuKa\n",
            "\n",
            "Pada hari Minggu lalu (19 September 2021), terjadi gangguan jaringan internet pada Telkomsel dan Indihome. Gangguan tersebut menyebabkan penurunan kualitas layanan TelkomGroup baik fixed maupun mobile broadband di beberapa wilayah Indonesia. Di masa pandemi yang menuntut orang untuk berada di rumah seperti ini, gangguan internet tentu menjadi masalah besar. Berbagai kegiatan penting seperti Seleksi Kompetensi Dasar (SKD) CPNS mengalami penundaan. Netizen pun banyak berkomentar negatif terkait hal ini. Saat artikel ini dirilis, gangguan tersebut mungkin belum benar-benar terselesaikan.\n",
            "\n",
            "Gangguan tersebut disebabkan oleh masalah pada sistem komunikasi kabel laut JaSuKa (Jawa, Sumatera dan Kalimantan) ruas Batam-Pontianak. Telkom memperkirakan proses perbaikan kabel laut yang terganggu akan berlangsung sekitar sebulan. Meski begitu, Telkom mencoba berbagai alternatif agar jaringan internet tetap dapat berjalan sebaik mungkin, meski tentu tidak sebaik ketika kondisi normal.\n",
            "\n",
            "Bagaimana pun juga, gangguan ini membuat banyak orang bertanya-tanya, “Apa hubungannya kabel di laut dengan internet?”, “Kenapa jaringan internet itu malah lewat kabel laut?”, “Kenapa nggak pakai satelit aja?”, “Kenapa jaringannya tidak segera membaik?”, dan lainnya. Artikel singkat ini akan mencoba membahas sedikit terkait hal itu.\n",
            "\n",
            "Ya, Internet itu ada di Bawah Laut\n",
            "\n",
            "Internet sering diasosiasikan dengan kata cloud atau wireless sehingga kita merasa bahwa internet itu dibawa oleh udara di sekitar kita. Ketika kita mendengar kata “jaringan internet”, yang terbayang mungkin gelombang antara menara pemancar di Bumi dengan satelit di angkasa. Itu tidak sepenuhnya salah. Internet memang ada di sekitar kita dan satelit memegang peran penting untuk itu. Namun, persepsi itu membuat kita melupakan bagian lain dari internet. Bagian terpenting yang sangat vital namun tidak akan pernah kita lihat, yaitu kabel laut. Sebelumnya, perlu kita ketahui bersama bahwa:\n",
            "\n",
            "99% Komunikasi Data Internasional itu Melalui Kabel Laut\n",
            "\n",
            "Itu adalah kalimat yang sudah banyak disampaikan di berbagai media massa, namun sepertinya masih belum banyak diketahui masyarakat umum. Lebih detailnya lagi, hanya sekitar 300 kabel bawah laut yang bertanggung jawab terhadap 99% lalu lintas komunikasi data internasional.\n",
            "\n",
            "Jaringan Kabel Laut di Dunia – www.submarinecablemap.com\n",
            "\n",
            "Gambar di atas merupakan jaringan kabel laut di dunia yang dapat diakses di www.submarinecablemap.com. Di sana, kita tidak hanya bisa melihat jaringan kabel secara keseluruhan, namun juga melihat lebih detail terkait salah satu kabel yang ada. Dari gambar di atas, jaringannya memang terlihat sangat banyak dan sangat rumit. Namun, kita perlu ingat bahwa komunikasi yang senantiasa terjadi di internet itu juga sangat banyak dan sangat rumit, jauh lebih banyak dan lebih rumit dari yang bisa kita bayangkan.\n",
            "\n",
            "Ketika kita mengirim satu chat ke teman di samping kita misalnya. Bisa jadi chat kita akan menempuh perjalanan yang amat sangat jauh. Mulai dari puluhan kilometer jalur darat secara wireless, kemudian melalui ribuan kilometer kabel laut, menuju ke data center di China atau Amerika, lalu kembali lagi ke Indonesia melalui kabel laut, dan sampai ke teman di samping kita secara wireless. Itu salah satu skenario yang mungkin terjadi, bisa saja jauh lebih pendek atau jauh lebih panjang. Sebagai mahasiswa Teknik Elektro yang pernah sedikit mendalami internet, yang bisa penulis katakan terkait internet adalah “It’s never been simple”\n",
            "\n",
            "Mengenal Kabel Laut\n",
            "\n",
            "Ketika mendengar bahwa 99% internet itu melewati kabel laut, apa bayangan kita terkait bentuk fisik dari kabel laut itu? Ukurannya mungkin memang sangat bervariasi, namun gambar berikut bisa memberikan gambaran bahwa ukuran kabelnya bisa jadi hanya sekecil ini\n",
            "\n",
            "Isi dari Kabel Laut – 99percentinvisible.org\n",
            "\n",
            "Hampir seluruh luasannya digunakan sebagai pelindung. Bagian yang mengalirkan informasi adalah fiber optik yang ukurannya tidak berbeda jauh dari sehelai rambut kita. Meski sangat kecil, dia mampu membawa informasi dengan sangat cepat, mendekati kecepatan cahaya. Itu karena informasi dibawa bukan sebagai sinyal listrik seperti kabel di rumah, namun sebagai sinyal cahaya. Kapasitasnya juga sangat besar, satu helai saja bisa memiliki kapasitas 100 gigabit per sekon. [Baca: Dasar Komunikasi Fiber Optik dan FTTH (Fiber To The Home)]\n",
            "\n",
            "Dengan itu semua, kabel laut jauh lebih cepat daripada satelit. Itu karena satelit yang biasanya digunakan untuk internet berada puluhan ribu kilometer di atas kita. Sementara itu, jalur melalui laut tidak akan lebih dari belasan ribu kilometer saja. Kapasitas transfer data dari satelit juga jauh lebih sulit untuk ditingkatkan dibanding kabel laut. Maka, meski keduanya memanfaatkan kecepatan cahaya, secara umum kabel laut tetap jauh lebih cepat daripada satelit. (Baca: SpaceX Luncurkan 60 Satelit Penyedia Internet Starlink)\n",
            "\n",
            "Namun, kabel laut juga memiliki banyak masalah. Banyak pihak yang menyebutkan bahwa kabel laut yang menjadi tulang punggung internet kita ini sebenarnya sangatlah rentan. Kabel laut dapat mengalami masalah akibat faktor alam, namun ini hanya mencakup 14 persen saja. Association of Sea Cable Communication Systems menyebutkan bahwa sebanyak 47% gangguan kabel laut disebabkan oleh jangkar kapal. Sementara itu, 28% disebabkan oleh sektor perikanan yang menggunakan FAD (fish aggregating devices). Di Indonesia pun, jangkar juga menjadi penyebab gangguan kabel terbesar. Hal itu mengingat lautan Indonesia juga sering dilewati banyak kapal.\n",
            "\n",
            "Jaringan Kabel Laut di Indonesia\n",
            "\n",
            "Kabel laut yang ada di negeri kita juga cukup banyak. Hal itu dapat dilihat pada Gambar berikut yang juga didapatkan dari www.submarinecablemap.com. Pada Gambar ini, jaringan kabel JaSuKa yang dimiliki Telkom Indonesia terlihat berwarna biru tua dan menghubungkan berbagai titik di Jawa, Sumatera, dan Kalimantan. JaSuKa memiliki total panjang hampir 11 ribu kilometer dan disebut menjadi salah satu yang terpanjang di dunia.\n",
            "\n",
            "Jaringan Kabel Laut di Indonesia – www.submarinecablemap.com\n",
            "\n",
            "Kabel laut memang jauh lebih murah daripada satelit, namun tetap saja tidak mudah dan tidak sederhana. Baik perencanaan maupun pengelolaannya memerlukan banyak pengorbanan. Ini wajar saja mengingat dunia bawah laut sangatlah kompleks dan penuh dengan berbagai hal yang tak terduga. Perlu diketahui pula bahwa setiap beberapa puluh kilometer, perlu terdapat repeater untuk menguatkan kembali sinyal cahaya yang telah melemah. Melihat kompleksitas itu, wajar saja jika perbaikan gangguan tidak bisa selesai dalam satu malam.\n",
            "\n",
            "Meski demikian, sistem yang besar umumnya memiliki berbagai alternatif jika sistem utamanya gagal. Hal ini juga kita dengar dari pihak Telkom, bahwa jalur backup dan alternatif telah diaktifkan untuk destinasi utama tertentu. Berbagai hal teknis yang tidak akan dipahami masyarakat umum pasti juga telah dilakukan.\n",
            "\n",
            "Bagaimana pun juga, gangguan ini menunjukan pada kita semua bahwa sistem internet di Indonesia sebenarnya masih belum kuat dan sangat rentan, apalagi jika kita meninjau Indonesia Timur. Di satu sisi, masyarakat umum perlu menyadari bahwa sistem internet secara fisiknya memang sangat kompleks dan sangat rentan terhadap berbagai gangguan serta tidak bisa diperbaiki dengan mudah. Di sisi lain, berbagai pihak yang berpartisipasi langsung di dalamnya perlu terus melakukan evaluasi dan pengembangan agar sistem internet di negeri kita dapat menjadi lebih handal. (Baca: Analisis terhadap Kualitas Jaringan Internet Indonesia yang Memburuk)\n",
            "\n",
            "Referensi\n"
          ]
        }
      ],
      "source": [
        "article = Article('https://warstek.com/kabel-laut/')\n",
        "article.download()\n",
        "article.parse()\n",
        "article.nlp()\n",
        "corpus = article.text\n",
        "print(corpus)"
      ]
    },
    {
      "cell_type": "markdown",
      "metadata": {
        "id": "6KQ3Or6fiKxv"
      },
      "source": [
        "# Proses 2 (Tokenization)"
      ]
    },
    {
      "cell_type": "code",
      "execution_count": 16,
      "metadata": {
        "id": "qsID-u6Gg012",
        "colab": {
          "base_uri": "https://localhost:8080/"
        },
        "outputId": "c52fa254-3946-487c-8a3d-f3989545978c"
      },
      "outputs": [
        {
          "output_type": "stream",
          "name": "stdout",
          "text": [
            "['Telkomsel, Indihome, dan Kabel Laut JaSuKa\\n\\nPada hari Minggu lalu (19 September 2021), terjadi gangguan jaringan internet pada Telkomsel dan Indihome.', 'Gangguan tersebut menyebabkan penurunan kualitas layanan TelkomGroup baik fixed maupun mobile broadband di beberapa wilayah Indonesia.', 'Di masa pandemi yang menuntut orang untuk berada di rumah seperti ini, gangguan internet tentu menjadi masalah besar.', 'Berbagai kegiatan penting seperti Seleksi Kompetensi Dasar (SKD) CPNS mengalami penundaan.', 'Netizen pun banyak berkomentar negatif terkait hal ini.', 'Saat artikel ini dirilis, gangguan tersebut mungkin belum benar-benar terselesaikan.', 'Gangguan tersebut disebabkan oleh masalah pada sistem komunikasi kabel laut JaSuKa (Jawa, Sumatera dan Kalimantan) ruas Batam-Pontianak.', 'Telkom memperkirakan proses perbaikan kabel laut yang terganggu akan berlangsung sekitar sebulan.', 'Meski begitu, Telkom mencoba berbagai alternatif agar jaringan internet tetap dapat berjalan sebaik mungkin, meski tentu tidak sebaik ketika kondisi normal.', 'Bagaimana pun juga, gangguan ini membuat banyak orang bertanya-tanya, “Apa hubungannya kabel di laut dengan internet?”, “Kenapa jaringan internet itu malah lewat kabel laut?”, “Kenapa nggak pakai satelit aja?”, “Kenapa jaringannya tidak segera membaik?”, dan lainnya.', 'Artikel singkat ini akan mencoba membahas sedikit terkait hal itu.', 'Ya, Internet itu ada di Bawah Laut\\n\\nInternet sering diasosiasikan dengan kata cloud atau wireless sehingga kita merasa bahwa internet itu dibawa oleh udara di sekitar kita.', 'Ketika kita mendengar kata “jaringan internet”, yang terbayang mungkin gelombang antara menara pemancar di Bumi dengan satelit di angkasa.', 'Itu tidak sepenuhnya salah.', 'Internet memang ada di sekitar kita dan satelit memegang peran penting untuk itu.', 'Namun, persepsi itu membuat kita melupakan bagian lain dari internet.', 'Bagian terpenting yang sangat vital namun tidak akan pernah kita lihat, yaitu kabel laut.', 'Sebelumnya, perlu kita ketahui bersama bahwa:\\n\\n99% Komunikasi Data Internasional itu Melalui Kabel Laut\\n\\nItu adalah kalimat yang sudah banyak disampaikan di berbagai media massa, namun sepertinya masih belum banyak diketahui masyarakat umum.', 'Lebih detailnya lagi, hanya sekitar 300 kabel bawah laut yang bertanggung jawab terhadap 99% lalu lintas komunikasi data internasional.', 'Jaringan Kabel Laut di Dunia – www.submarinecablemap.com\\n\\nGambar di atas merupakan jaringan kabel laut di dunia yang dapat diakses di www.submarinecablemap.com.', 'Di sana, kita tidak hanya bisa melihat jaringan kabel secara keseluruhan, namun juga melihat lebih detail terkait salah satu kabel yang ada.', 'Dari gambar di atas, jaringannya memang terlihat sangat banyak dan sangat rumit.', 'Namun, kita perlu ingat bahwa komunikasi yang senantiasa terjadi di internet itu juga sangat banyak dan sangat rumit, jauh lebih banyak dan lebih rumit dari yang bisa kita bayangkan.', 'Ketika kita mengirim satu chat ke teman di samping kita misalnya.', 'Bisa jadi chat kita akan menempuh perjalanan yang amat sangat jauh.', 'Mulai dari puluhan kilometer jalur darat secara wireless, kemudian melalui ribuan kilometer kabel laut, menuju ke data center di China atau Amerika, lalu kembali lagi ke Indonesia melalui kabel laut, dan sampai ke teman di samping kita secara wireless.', 'Itu salah satu skenario yang mungkin terjadi, bisa saja jauh lebih pendek atau jauh lebih panjang.', 'Sebagai mahasiswa Teknik Elektro yang pernah sedikit mendalami internet, yang bisa penulis katakan terkait internet adalah “It’s never been simple”\\n\\nMengenal Kabel Laut\\n\\nKetika mendengar bahwa 99% internet itu melewati kabel laut, apa bayangan kita terkait bentuk fisik dari kabel laut itu?', 'Ukurannya mungkin memang sangat bervariasi, namun gambar berikut bisa memberikan gambaran bahwa ukuran kabelnya bisa jadi hanya sekecil ini\\n\\nIsi dari Kabel Laut – 99percentinvisible.org\\n\\nHampir seluruh luasannya digunakan sebagai pelindung.', 'Bagian yang mengalirkan informasi adalah fiber optik yang ukurannya tidak berbeda jauh dari sehelai rambut kita.', 'Meski sangat kecil, dia mampu membawa informasi dengan sangat cepat, mendekati kecepatan cahaya.', 'Itu karena informasi dibawa bukan sebagai sinyal listrik seperti kabel di rumah, namun sebagai sinyal cahaya.', 'Kapasitasnya juga sangat besar, satu helai saja bisa memiliki kapasitas 100 gigabit per sekon.', '[Baca: Dasar Komunikasi Fiber Optik dan FTTH (Fiber To The Home)]\\n\\nDengan itu semua, kabel laut jauh lebih cepat daripada satelit.', 'Itu karena satelit yang biasanya digunakan untuk internet berada puluhan ribu kilometer di atas kita.', 'Sementara itu, jalur melalui laut tidak akan lebih dari belasan ribu kilometer saja.', 'Kapasitas transfer data dari satelit juga jauh lebih sulit untuk ditingkatkan dibanding kabel laut.', 'Maka, meski keduanya memanfaatkan kecepatan cahaya, secara umum kabel laut tetap jauh lebih cepat daripada satelit.', '(Baca: SpaceX Luncurkan 60 Satelit Penyedia Internet Starlink)\\n\\nNamun, kabel laut juga memiliki banyak masalah.', 'Banyak pihak yang menyebutkan bahwa kabel laut yang menjadi tulang punggung internet kita ini sebenarnya sangatlah rentan.', 'Kabel laut dapat mengalami masalah akibat faktor alam, namun ini hanya mencakup 14 persen saja.', 'Association of Sea Cable Communication Systems menyebutkan bahwa sebanyak 47% gangguan kabel laut disebabkan oleh jangkar kapal.', 'Sementara itu, 28% disebabkan oleh sektor perikanan yang menggunakan FAD (fish aggregating devices).', 'Di Indonesia pun, jangkar juga menjadi penyebab gangguan kabel terbesar.', 'Hal itu mengingat lautan Indonesia juga sering dilewati banyak kapal.', 'Jaringan Kabel Laut di Indonesia\\n\\nKabel laut yang ada di negeri kita juga cukup banyak.', 'Hal itu dapat dilihat pada Gambar berikut yang juga didapatkan dari www.submarinecablemap.com.', 'Pada Gambar ini, jaringan kabel JaSuKa yang dimiliki Telkom Indonesia terlihat berwarna biru tua dan menghubungkan berbagai titik di Jawa, Sumatera, dan Kalimantan.', 'JaSuKa memiliki total panjang hampir 11 ribu kilometer dan disebut menjadi salah satu yang terpanjang di dunia.', 'Jaringan Kabel Laut di Indonesia – www.submarinecablemap.com\\n\\nKabel laut memang jauh lebih murah daripada satelit, namun tetap saja tidak mudah dan tidak sederhana.', 'Baik perencanaan maupun pengelolaannya memerlukan banyak pengorbanan.', 'Ini wajar saja mengingat dunia bawah laut sangatlah kompleks dan penuh dengan berbagai hal yang tak terduga.', 'Perlu diketahui pula bahwa setiap beberapa puluh kilometer, perlu terdapat repeater untuk menguatkan kembali sinyal cahaya yang telah melemah.', 'Melihat kompleksitas itu, wajar saja jika perbaikan gangguan tidak bisa selesai dalam satu malam.', 'Meski demikian, sistem yang besar umumnya memiliki berbagai alternatif jika sistem utamanya gagal.', 'Hal ini juga kita dengar dari pihak Telkom, bahwa jalur backup dan alternatif telah diaktifkan untuk destinasi utama tertentu.', 'Berbagai hal teknis yang tidak akan dipahami masyarakat umum pasti juga telah dilakukan.', 'Bagaimana pun juga, gangguan ini menunjukan pada kita semua bahwa sistem internet di Indonesia sebenarnya masih belum kuat dan sangat rentan, apalagi jika kita meninjau Indonesia Timur.', 'Di satu sisi, masyarakat umum perlu menyadari bahwa sistem internet secara fisiknya memang sangat kompleks dan sangat rentan terhadap berbagai gangguan serta tidak bisa diperbaiki dengan mudah.', 'Di sisi lain, berbagai pihak yang berpartisipasi langsung di dalamnya perlu terus melakukan evaluasi dan pengembangan agar sistem internet di negeri kita dapat menjadi lebih handal.', '(Baca: Analisis terhadap Kualitas Jaringan Internet Indonesia yang Memburuk)\\n\\nReferensi']\n"
          ]
        }
      ],
      "source": [
        "# Tokenization\n",
        "text = corpus\n",
        "sentence_list = nltk.sent_tokenize(text) #A list of senetences\n",
        "\n",
        "# Print the list of sentences\n",
        "print(sentence_list)"
      ]
    },
    {
      "cell_type": "code",
      "execution_count": null,
      "metadata": {
        "id": "iq-tYfnBiS06"
      },
      "outputs": [],
      "source": [
        ""
      ]
    },
    {
      "cell_type": "code",
      "execution_count": 17,
      "metadata": {
        "id": "lYvkaKOHiia2"
      },
      "outputs": [],
      "source": [
        "#a function to return a random greeting response to a users greeting\n",
        "def greeting_response(text):\n",
        "    text = text.lower()\n",
        "    \n",
        "    #Bots greeting respone\n",
        "    bot_greetings = ['halo','hai','yuhuu','*eyebrows up*']\n",
        "    \n",
        "    #Users greeting\n",
        "    user_greetings = ['Haloo','Eh iyaa Haii','Hai','greetings','wassup']\n",
        "    \n",
        "    for word in text.split():\n",
        "        if word in user_greetings:\n",
        "            return random.choice(bot_greetings)\n",
        "        \n",
        "    #Random response to greeting\n",
        "    #def gratitude_response(text):\n",
        "        #text=text.lower()\n",
        "   \n"
      ]
    },
    {
      "cell_type": "code",
      "execution_count": 18,
      "metadata": {
        "id": "TZU6BZB3iia7"
      },
      "outputs": [],
      "source": [
        " def index_sort(list_var):\n",
        "    length = len(list_var)\n",
        "    list_index = list(range(0, length))\n",
        "    \n",
        "    x = list_var        \n",
        "    for i in range(length):\n",
        "        for j in range(length):\n",
        "            if x[list_index[i]] > x[list_index[j]]:\n",
        "                #swap\n",
        "                temp = list_index[i]\n",
        "                list_index[i] = list_index[j]\n",
        "                list_index[j] = temp\n",
        "                \n",
        "    return list_index"
      ]
    },
    {
      "cell_type": "code",
      "execution_count": 19,
      "metadata": {
        "id": "jgD-wmTwiia7"
      },
      "outputs": [],
      "source": [
        "# Creat Bots Response\n",
        "def bot_response(user_input):\n",
        "    user_input=user_input.lower()\n",
        "    sentence_list.append(user_input)\n",
        "    bot_response= ''\n",
        "    cm=CountVectorizer().fit_transform(sentence_list)\n",
        "    similarity_scores=cosine_similarity(cm[-1],cm)\n",
        "    similarity_scores_list=similarity_scores.flatten()\n",
        "    index=index_sort(similarity_scores_list)\n",
        "    index=index[1:]\n",
        "    response_flag=0\n",
        "    \n",
        "    j=0\n",
        "    for i in range(len(index)):\n",
        "        if similarity_scores_list[index[i]]>0.0:\n",
        "            bot_response=bot_response+' '+sentence_list[index[i]]\n",
        "            response_flag=1\n",
        "            j=j+1\n",
        "        if j>2:\n",
        "            break\n",
        "\n",
        "        if response_flag==0:\n",
        "            bot_response=bot_response+\" \"+\"I apologize, I dont understand\"\n",
        "\n",
        "        sentence_list.remove(user_input) \n",
        "\n",
        "        return bot_response"
      ]
    },
    {
      "cell_type": "markdown",
      "metadata": {
        "id": "PVF_g7Xyiia8"
      },
      "source": [
        "# Proses 4 (End Process, Making chat box)"
      ]
    },
    {
      "cell_type": "code",
      "execution_count": 20,
      "metadata": {
        "id": "knRbg2R0iia8",
        "colab": {
          "base_uri": "https://localhost:8080/",
          "height": 429
        },
        "outputId": "a60d6b6c-5bef-4c57-c3b7-1fb93a33c9ef"
      },
      "outputs": [
        {
          "output_type": "stream",
          "name": "stdout",
          "text": [
            "Doc Bot: Mau nanya apa kamu tentang kabel laut\n",
            "kabel laut adalah\n",
            "Doc Bot:  Jaringan Kabel Laut di Indonesia\n",
            "\n",
            "Kabel laut yang ada di negeri kita juga cukup banyak.\n",
            "Kamu:\n",
            "\n"
          ]
        },
        {
          "output_type": "display_data",
          "data": {
            "text/plain": [
              "<IPython.lib.display.Audio object>"
            ],
            "text/html": [
              "\n",
              "                <audio controls=\"controls\" autoplay=\"autoplay\">\n",
              "                    <source src=\"data:audio/x-wav;base64,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\" type=\"audio/x-wav\" />\n",
              "                    Your browser does not support the audio element.\n",
              "                </audio>\n",
              "              "
            ]
          },
          "metadata": {}
        },
        {
          "output_type": "stream",
          "name": "stdout",
          "text": [
            "============================================================\n",
            "\n",
            "kabel laut untuk komunikasi internasional adalah\n",
            "Doc Bot:  Lebih detailnya lagi, hanya sekitar 300 kabel bawah laut yang bertanggung jawab terhadap 99% lalu lintas komunikasi data internasional.\n",
            "Kamu:\n",
            "\n"
          ]
        },
        {
          "output_type": "display_data",
          "data": {
            "text/plain": [
              "<IPython.lib.display.Audio object>"
            ],
            "text/html": [
              "\n",
              "                <audio controls=\"controls\" autoplay=\"autoplay\">\n",
              "                    <source src=\"data:audio/x-wav;base64,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\" type=\"audio/x-wav\" />\n",
              "                    Your browser does not support the audio element.\n",
              "                </audio>\n",
              "              "
            ]
          },
          "metadata": {}
        },
        {
          "output_type": "stream",
          "name": "stdout",
          "text": [
            "============================================================\n",
            "\n",
            "exit\n",
            "Doc Bot: Bye Bye Sampai jumpa lagi\n"
          ]
        }
      ],
      "source": [
        "#Start Chat\n",
        "print(\"Doc Bot: Mau nanya apa kamu tentang kabel laut\")\n",
        "\n",
        "exit_list=['exit','bye','keluar','quit', 'sampai jumpa']\n",
        "\n",
        "while(True):\n",
        "    user_input=input()\n",
        "    if user_input.lower() in exit_list:\n",
        "        print('Doc Bot: Bye Bye Sampai jumpa lagi')\n",
        "        break\n",
        "    else:\n",
        "        if greeting_response(user_input)!= None:\n",
        "            print('Doc Bot: '+ greeting_response(user_input))\n",
        "            \n",
        "        else:\n",
        "            print('Doc Bot: '+ bot_response(user_input))\n",
        "            tts = gTTS(bot_response(user_input), lang='id')\n",
        "            tts.save('mantap.wav')\n",
        "            time.sleep(0.08)\n",
        "            print(\"Kamu:\\n\")\n",
        "            ipd.display(ipd.Audio('mantap.wav', autoplay=True))\n",
        "            \n",
        "            print(\"=\"*60 + \"\\n\")"
      ]
    },
    {
      "cell_type": "code",
      "execution_count": 21,
      "metadata": {
        "id": "H8psLH5Ji4ng"
      },
      "outputs": [],
      "source": [
        "#Coba berikan input kalimat berikut\n",
        "\n",
        "# kabel laut adalah\n",
        "# kabel laut untuk komunikasi internasional adalah"
      ]
    }
  ],
  "metadata": {
    "accelerator": "GPU",
    "colab": {
      "collapsed_sections": [],
      "name": "Salinan dari JM-4&5_ChatbotAI_Text to Speech.ipynb",
      "provenance": [],
      "include_colab_link": true
    },
    "kernelspec": {
      "display_name": "Python 3",
      "language": "python",
      "name": "python3"
    },
    "language_info": {
      "codemirror_mode": {
        "name": "ipython",
        "version": 3
      },
      "file_extension": ".py",
      "mimetype": "text/x-python",
      "name": "python",
      "nbconvert_exporter": "python",
      "pygments_lexer": "ipython3",
      "version": "3.8.8"
    }
  },
  "nbformat": 4,
  "nbformat_minor": 0
}